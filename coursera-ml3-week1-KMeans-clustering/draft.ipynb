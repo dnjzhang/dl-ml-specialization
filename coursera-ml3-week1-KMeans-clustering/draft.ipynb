{
 "cells": [
  {
   "cell_type": "code",
   "execution_count": 1,
   "id": "977a04ba-451e-4fa4-9c03-56d1e84feb55",
   "metadata": {},
   "outputs": [],
   "source": [
    "import numpy as np\n",
    "import matplotlib.pyplot as plt\n",
    "from utils import *\n",
    "\n",
    "%matplotlib inline\n"
   ]
  },
  {
   "cell_type": "code",
   "execution_count": 2,
   "id": "2453103a-2722-4085-b126-c0cfde9435d4",
   "metadata": {},
   "outputs": [
    {
     "data": {
      "text/plain": [
       "array([-10, -20, -30, -40, -50])"
      ]
     },
     "execution_count": 2,
     "metadata": {},
     "output_type": "execute_result"
    }
   ],
   "source": [
    "X = np.array([10, 20, 30, 40, 50])\n",
    "Y = np.array([-1, -1, -1, -1, -1])\n",
    "X*Y\n"
   ]
  },
  {
   "cell_type": "code",
   "execution_count": 3,
   "id": "149986ac-5f16-4a93-8ef3-8279e4a42dd4",
   "metadata": {},
   "outputs": [
    {
     "data": {
      "text/plain": [
       "array([-0.5, -0.5, -0.5, -0.5, -0.5])"
      ]
     },
     "execution_count": 3,
     "metadata": {},
     "output_type": "execute_result"
    }
   ],
   "source": [
    "Y/2"
   ]
  },
  {
   "cell_type": "code",
   "execution_count": 4,
   "id": "c2cc84ea-207c-46f0-bcf0-30da8b9161ec",
   "metadata": {},
   "outputs": [
    {
     "data": {
      "text/plain": [
       "array([10, 20, 30, 40, 50])"
      ]
     },
     "execution_count": 4,
     "metadata": {},
     "output_type": "execute_result"
    }
   ],
   "source": [
    "X"
   ]
  },
  {
   "cell_type": "code",
   "execution_count": 5,
   "id": "199dccfa-9a5f-45a5-a93e-8858f7a720ff",
   "metadata": {},
   "outputs": [
    {
     "data": {
      "text/plain": [
       "(5,)"
      ]
     },
     "execution_count": 5,
     "metadata": {},
     "output_type": "execute_result"
    }
   ],
   "source": [
    "X.shape"
   ]
  },
  {
   "cell_type": "code",
   "execution_count": 7,
   "id": "f576e7c4-d799-43c6-b3b7-feeac3814b45",
   "metadata": {},
   "outputs": [
    {
     "name": "stdout",
     "output_type": "stream",
     "text": [
      "(0, np.int64(10))\n",
      "(1, np.int64(20))\n",
      "(2, np.int64(30))\n",
      "(3, np.int64(40))\n",
      "(4, np.int64(50))\n"
     ]
    }
   ],
   "source": [
    "for i in enumerate(X): \n",
    "    print( i )"
   ]
  },
  {
   "cell_type": "code",
   "execution_count": 8,
   "id": "a2f57a24-00ab-4b53-b341-9eec9be622b9",
   "metadata": {},
   "outputs": [
    {
     "data": {
      "text/plain": [
       "array([5., 6., 7., 8.])"
      ]
     },
     "execution_count": 8,
     "metadata": {},
     "output_type": "execute_result"
    }
   ],
   "source": [
    "X = np.array([\n",
    "    [10, 2, 5, 4],\n",
    "    [5, 26, 7, 8],\n",
    "    [19, 1, 15, 6]\n",
    "])\n",
    "np.mean(X, axis=0)"
   ]
  },
  {
   "cell_type": "code",
   "execution_count": 9,
   "id": "64ef8751-734d-410a-ad3e-8d186d5b019e",
   "metadata": {},
   "outputs": [
    {
     "name": "stdout",
     "output_type": "stream",
     "text": [
      "128.0\n"
     ]
    }
   ],
   "source": [
    "means=np.mean(X, axis=0)\n",
    "var = np.sum( (X-means)**2 )\n",
    "print(var)\n"
   ]
  },
  {
   "cell_type": "code",
   "execution_count": 10,
   "id": "8a485758-a7fd-4d06-8578-73409a1b9baa",
   "metadata": {},
   "outputs": [
    {
     "data": {
      "text/plain": [
       "array([[16., 16., 16., 16.],\n",
       "       [ 0.,  0.,  0.,  0.],\n",
       "       [16., 16., 16., 16.]])"
      ]
     },
     "execution_count": 10,
     "metadata": {},
     "output_type": "execute_result"
    }
   ],
   "source": [
    "(X-means)**2\n"
   ]
  },
  {
   "cell_type": "code",
   "execution_count": 11,
   "id": "d931e8d3-932f-4936-ae13-dcda925c2d52",
   "metadata": {},
   "outputs": [
    {
     "data": {
      "text/plain": [
       "array([5., 6., 7., 8.])"
      ]
     },
     "execution_count": 11,
     "metadata": {},
     "output_type": "execute_result"
    }
   ],
   "source": [
    "means"
   ]
  },
  {
   "cell_type": "code",
   "execution_count": 13,
   "id": "03250084-8d6c-4461-9156-849402626234",
   "metadata": {},
   "outputs": [
    {
     "data": {
      "text/plain": [
       "array([8., 8., 8., 8.])"
      ]
     },
     "execution_count": 13,
     "metadata": {},
     "output_type": "execute_result"
    }
   ],
   "source": [
    "V=np.zeros(X.shape[1])\n",
    "for i, x in enumerate(X): \n",
    "    V = V + (x-meanXs)**2\n",
    "V = V/X.shape[1]\n",
    "V"
   ]
  },
  {
   "cell_type": "code",
   "execution_count": 14,
   "id": "35c15d32-3f55-462e-a0cd-dbe5d8bee2b0",
   "metadata": {},
   "outputs": [
    {
     "data": {
      "text/plain": [
       "array([[ 1,  2,  3,  4],\n",
       "       [ 5,  6,  7,  8],\n",
       "       [ 9, 10, 11, 12]])"
      ]
     },
     "execution_count": 14,
     "metadata": {},
     "output_type": "execute_result"
    }
   ],
   "source": [
    "X"
   ]
  },
  {
   "cell_type": "code",
   "execution_count": 15,
   "id": "38c29810-915e-45a4-a723-4cfad183d5ed",
   "metadata": {},
   "outputs": [
    {
     "data": {
      "text/plain": [
       "4"
      ]
     },
     "execution_count": 15,
     "metadata": {},
     "output_type": "execute_result"
    }
   ],
   "source": [
    "X.shape[1]"
   ]
  },
  {
   "cell_type": "code",
   "execution_count": 16,
   "id": "264eec20-91b9-4bca-8221-6d3d74ab9d81",
   "metadata": {},
   "outputs": [
    {
     "data": {
      "text/plain": [
       "3"
      ]
     },
     "execution_count": 16,
     "metadata": {},
     "output_type": "execute_result"
    }
   ],
   "source": [
    "X.shape[0]"
   ]
  },
  {
   "cell_type": "code",
   "execution_count": 38,
   "id": "4af9478c-5bd7-4a00-bf99-2af14af0cd96",
   "metadata": {},
   "outputs": [
    {
     "name": "stdout",
     "output_type": "stream",
     "text": [
      "1,5.0, 16.0\n",
      "5,5.0, 0.0\n",
      "9,5.0, 16.0\n",
      "2,6.0, 16.0\n",
      "6,6.0, 0.0\n",
      "10,6.0, 16.0\n",
      "3,7.0, 16.0\n",
      "7,7.0, 0.0\n",
      "11,7.0, 16.0\n",
      "4,8.0, 16.0\n",
      "8,8.0, 0.0\n",
      "12,8.0, 16.0\n"
     ]
    },
    {
     "data": {
      "text/plain": [
       "array([8., 8., 8., 8.], dtype=float32)"
      ]
     },
     "execution_count": 38,
     "metadata": {},
     "output_type": "execute_result"
    }
   ],
   "source": [
    "V=np.zeros(X.shape[1], dtype='float32')\n",
    "for j in range(X.shape[1]):\n",
    "    for x in X[:, j]:\n",
    "        print(f\"{x},{means[j]}, {(x-means[j])**2}\")\n",
    "        V[j] += (x-means[j])**2\n",
    "    V[j] = V[j]/V.shape[0]\n",
    "\n",
    "V\n"
   ]
  },
  {
   "cell_type": "code",
   "execution_count": 43,
   "id": "12d25810-0dfd-4bdf-acec-cb4d79e775f3",
   "metadata": {},
   "outputs": [
    {
     "data": {
      "text/plain": [
       "array([11.33333333,  9.66666667, 15.66666667, 21.66666667])"
      ]
     },
     "execution_count": 43,
     "metadata": {},
     "output_type": "execute_result"
    }
   ],
   "source": [
    "X = np.array([\n",
    "    [10, 2, 5, 41],\n",
    "    [5, 26, 27, 18],\n",
    "    [19, 1, 15, 6]\n",
    "])\n",
    "np.mean(X, axis=0)"
   ]
  },
  {
   "cell_type": "code",
   "execution_count": 44,
   "id": "47175670-336e-4989-a93e-fe50c512a612",
   "metadata": {},
   "outputs": [
    {
     "name": "stdout",
     "output_type": "stream",
     "text": [
      ">>0\n",
      "steps 10,11.333333333333334, 1.7777777777777795\n",
      "steps 5,11.333333333333334, 40.11111111111112\n",
      "steps 19,11.333333333333334, 58.77777777777777\n",
      ">>1\n",
      "steps 2,9.666666666666666, 58.77777777777777\n",
      "steps 26,9.666666666666666, 266.7777777777778\n",
      "steps 1,9.666666666666666, 75.1111111111111\n",
      ">>2\n",
      "steps 5,15.666666666666666, 113.77777777777777\n",
      "steps 27,15.666666666666666, 128.44444444444446\n",
      "steps 15,15.666666666666666, 0.44444444444444364\n",
      ">>3\n",
      "steps 41,21.666666666666668, 373.7777777777777\n",
      "steps 18,21.666666666666668, 13.444444444444454\n",
      "steps 6,21.666666666666668, 245.44444444444449\n"
     ]
    },
    {
     "data": {
      "text/plain": [
       "array([ 25.166666, 100.166664,  60.666668, 158.16667 ], dtype=float32)"
      ]
     },
     "execution_count": 44,
     "metadata": {},
     "output_type": "execute_result"
    }
   ],
   "source": [
    "means = np.mean(X, axis=0)\n",
    "\n",
    "V=np.zeros(X.shape[1], dtype='float32')\n",
    "for j in range(X.shape[1]):\n",
    "    print(f\">>{j}\")\n",
    "    for x in X[:, j]:\n",
    "        print(f\"steps {x},{means[j]}, {(x-means[j])**2}\")\n",
    "        V[j] += (x-means[j])**2\n",
    "        \n",
    "    V[j] = V[j]/V.shape[0]\n",
    "V"
   ]
  },
  {
   "cell_type": "code",
   "execution_count": null,
   "id": "e9a8c429-c557-4a8f-95c5-7cd331ac2dcb",
   "metadata": {},
   "outputs": [],
   "source": []
  }
 ],
 "metadata": {
  "kernelspec": {
   "display_name": "Python 3 (ipykernel)",
   "language": "python",
   "name": "python3"
  },
  "language_info": {
   "codemirror_mode": {
    "name": "ipython",
    "version": 3
   },
   "file_extension": ".py",
   "mimetype": "text/x-python",
   "name": "python",
   "nbconvert_exporter": "python",
   "pygments_lexer": "ipython3",
   "version": "3.12.6"
  }
 },
 "nbformat": 4,
 "nbformat_minor": 5
}
